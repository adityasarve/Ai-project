{
  "nbformat": 4,
  "nbformat_minor": 0,
  "metadata": {
    "colab": {
      "provenance": [],
      "gpuType": "T4",
      "authorship_tag": "ABX9TyPcME3eo/sik6tU3jwlFzWJ",
      "include_colab_link": true
    },
    "kernelspec": {
      "name": "python3",
      "display_name": "Python 3"
    },
    "language_info": {
      "name": "python"
    },
    "accelerator": "GPU"
  },
  "cells": [
    {
      "cell_type": "markdown",
      "metadata": {
        "id": "view-in-github",
        "colab_type": "text"
      },
      "source": [
        "<a href=\"https://colab.research.google.com/github/adityasarve/Ai-project/blob/main/Feature_engineering.ipynb\" target=\"_parent\"><img src=\"https://colab.research.google.com/assets/colab-badge.svg\" alt=\"Open In Colab\"/></a>"
      ]
    },
    {
      "cell_type": "markdown",
      "source": [
        "### Feature Engineering of pickup and delivery dataset."
      ],
      "metadata": {
        "id": "tQqzFzqc5f_Z"
      }
    },
    {
      "cell_type": "code",
      "execution_count": 2,
      "metadata": {
        "id": "SlrAl0Wzx5Cz"
      },
      "outputs": [],
      "source": [
        "import pandas as pd\n",
        "import numpy as np\n",
        "import geopy.distance\n",
        "import matplotlib.pyplot as plt\n",
        "import seaborn as sns\n",
        "from sklearn.ensemble import RandomForestRegressor\n",
        "from sklearn.preprocessing import MinMaxScaler, StandardScaler, RobustScaler\n",
        "from sklearn.decomposition import PCA\n",
        "from statsmodels.stats.outliers_influence import variance_inflation_factor\n",
        "from statsmodels.tools.tools import add_constant\n",
        "\n",
        "\n"
      ]
    },
    {
      "cell_type": "code",
      "source": [
        "delivery_data = pd.read_csv('/content/cleaned_delivery_data .csv')\n",
        "pickup_data = pd.read_csv('/content/cleaned_pickup_data.csv')\n",
        "\n",
        "\n",
        "print(\"Delivery Data Preview:\")\n",
        "print(delivery_data.head())\n",
        "\n",
        "print(\"\\nPickup Data Preview:\")\n",
        "print(pickup_data.head())\n",
        "\n",
        "\n",
        "print(\"\\nDelivery Data Types:\")\n",
        "print(delivery_data.dtypes)\n",
        "\n",
        "print(\"\\nPickup Data Types:\")\n",
        "print(pickup_data.dtypes)"
      ],
      "metadata": {
        "colab": {
          "base_uri": "https://localhost:8080/"
        },
        "id": "HsNrwxKG5SrB",
        "outputId": "5e774006-f086-4588-9f7d-1627ffac3e2f"
      },
      "execution_count": 3,
      "outputs": [
        {
          "output_type": "stream",
          "name": "stdout",
          "text": [
            "Delivery Data Preview:\n",
            "   order_id  region_id  courier_id        lng       lat  aoi_id  aoi_type  \\\n",
            "0   2031782         10          73  108.71571  30.90228      50        14   \n",
            "1   4481765         10        3605  108.71605  30.90410      50        14   \n",
            "2   3098203         10        1635  108.71797  30.94364     296        14   \n",
            "3    356619         10        1635  108.71979  30.94130     296        14   \n",
            "4   1484207         10        1635  108.72106  30.94164     296        14   \n",
            "\n",
            "           accept_time      accept_gps_time  accept_gps_lng  accept_gps_lat  \\\n",
            "0  2024-10-22 10:26:00  2024-10-22 10:26:00       108.71826        30.95587   \n",
            "1  2024-09-30 10:00:00  2024-09-30 10:00:00       108.71824        30.95583   \n",
            "2  2024-07-10 08:33:00  2024-07-10 08:33:00       108.71801        30.95637   \n",
            "3  2024-09-09 09:04:00  2024-09-09 09:04:00       108.71803        30.95629   \n",
            "4  2024-10-19 08:29:00  2024-10-19 08:29:00       108.71820        30.95598   \n",
            "\n",
            "         delivery_time    delivery_gps_time  delivery_gps_lng  \\\n",
            "0  2024-10-22 17:04:00  2024-10-22 17:04:00         108.66361   \n",
            "1  2024-09-30 16:38:00  2024-09-30 16:38:00         108.71429   \n",
            "2  2024-07-10 13:24:00  2024-07-10 13:24:00         108.71809   \n",
            "3  2024-09-09 10:49:00  2024-09-09 10:49:00         108.71970   \n",
            "4  2024-10-19 10:11:00  2024-10-19 10:11:00         108.72307   \n",
            "\n",
            "   delivery_gps_lat    ds delivery_duration  distance  city  \n",
            "0          30.96702  1022   0 days 06:38:00  0.055776     0  \n",
            "1          30.90416   930   0 days 06:38:00  0.051821     0  \n",
            "2          30.94260   710   0 days 04:51:00  0.013770     0  \n",
            "3          30.94235   909   0 days 01:45:00  0.014040     0  \n",
            "4          30.94201  1019   0 days 01:42:00  0.014795     0  \n",
            "\n",
            "Pickup Data Preview:\n",
            "   order_id  region_id       city  courier_id  accept_time  time_window_start  \\\n",
            "0   2301722          3  Chongqing        4706          NaN                NaN   \n",
            "1    780972          3  Chongqing        4706          NaN                NaN   \n",
            "2    283833          3  Chongqing        6693          NaN                NaN   \n",
            "3   4315552          3  Chongqing         317          NaN                NaN   \n",
            "4    728111          3  Chongqing         317          NaN                NaN   \n",
            "\n",
            "   time_window_end        lng       lat  aoi_id  ...  pickup_gps_time  \\\n",
            "0              NaN  106.46869  29.47191     218  ...              NaN   \n",
            "1              NaN  106.46875  29.47208     218  ...              NaN   \n",
            "2              NaN  106.46863  29.47203     218  ...              NaN   \n",
            "3              NaN  106.46861  29.48829     337  ...              NaN   \n",
            "4              NaN  106.46772  29.48808     337  ...              NaN   \n",
            "\n",
            "   pickup_gps_lng  pickup_gps_lat  accept_gps_time  accept_gps_lng  \\\n",
            "0       106.46821        29.46771              NaN       106.46929   \n",
            "1       106.46930        29.47238              NaN       106.47907   \n",
            "2       106.47037        29.47237              NaN       106.49162   \n",
            "3       106.46860        29.48788              NaN       106.47521   \n",
            "4       106.46918        29.48724              NaN       106.46635   \n",
            "\n",
            "   accept_gps_lat    ds  time_window_duration  task_duration  distance  \n",
            "0        29.47231  1009                   NaN            NaN  0.004725  \n",
            "1        29.43180   522                   NaN            NaN  0.041740  \n",
            "2        29.43503   503                   NaN            NaN  0.042963  \n",
            "3        29.48561   606                   NaN            NaN  0.006989  \n",
            "4        29.49159   521                   NaN            NaN  0.005190  \n",
            "\n",
            "[5 rows x 22 columns]\n",
            "\n",
            "Delivery Data Types:\n",
            "order_id               int64\n",
            "region_id              int64\n",
            "courier_id             int64\n",
            "lng                  float64\n",
            "lat                  float64\n",
            "aoi_id                 int64\n",
            "aoi_type               int64\n",
            "accept_time           object\n",
            "accept_gps_time       object\n",
            "accept_gps_lng       float64\n",
            "accept_gps_lat       float64\n",
            "delivery_time         object\n",
            "delivery_gps_time     object\n",
            "delivery_gps_lng     float64\n",
            "delivery_gps_lat     float64\n",
            "ds                     int64\n",
            "delivery_duration     object\n",
            "distance             float64\n",
            "city                   int64\n",
            "dtype: object\n",
            "\n",
            "Pickup Data Types:\n",
            "order_id                  int64\n",
            "region_id                 int64\n",
            "city                     object\n",
            "courier_id                int64\n",
            "accept_time             float64\n",
            "time_window_start       float64\n",
            "time_window_end         float64\n",
            "lng                     float64\n",
            "lat                     float64\n",
            "aoi_id                    int64\n",
            "aoi_type                  int64\n",
            "pickup_time             float64\n",
            "pickup_gps_time         float64\n",
            "pickup_gps_lng          float64\n",
            "pickup_gps_lat          float64\n",
            "accept_gps_time         float64\n",
            "accept_gps_lng          float64\n",
            "accept_gps_lat          float64\n",
            "ds                        int64\n",
            "time_window_duration    float64\n",
            "task_duration           float64\n",
            "distance                float64\n",
            "dtype: object\n"
          ]
        }
      ]
    },
    {
      "cell_type": "markdown",
      "source": [
        "###  Feature Selection"
      ],
      "metadata": {
        "id": "NxHN1fAk5gKH"
      }
    },
    {
      "cell_type": "code",
      "source": [
        "# Define irrelevant columns for both datasets\n",
        "irrelevant_columns = ['order_id', 'courier_id']\n",
        "\n",
        "# Remove irrelevant columns from both datasets\n",
        "delivery_data.drop(columns=irrelevant_columns, inplace=True)\n",
        "pickup_data.drop(columns=irrelevant_columns, inplace=True)\n",
        "\n",
        "# Check the modified datasets\n",
        "print(\"\\nModified Delivery Data:\")\n",
        "print(delivery_data.head())\n",
        "\n",
        "print(\"\\nModified Pickup Data:\")\n",
        "print(pickup_data.head())"
      ],
      "metadata": {
        "colab": {
          "base_uri": "https://localhost:8080/"
        },
        "id": "Lql94TjV5SuM",
        "outputId": "0eb2e73a-6567-44c8-9fe7-04996bb140a1"
      },
      "execution_count": 3,
      "outputs": [
        {
          "output_type": "stream",
          "name": "stdout",
          "text": [
            "\n",
            "Modified Delivery Data:\n",
            "   region_id        lng       lat  aoi_id  aoi_type          accept_time  \\\n",
            "0         10  108.71571  30.90228      50        14  2024-10-22 10:26:00   \n",
            "1         10  108.71605  30.90410      50        14  2024-09-30 10:00:00   \n",
            "2         10  108.71797  30.94364     296        14  2024-07-10 08:33:00   \n",
            "3         10  108.71979  30.94130     296        14  2024-09-09 09:04:00   \n",
            "4         10  108.72106  30.94164     296        14  2024-10-19 08:29:00   \n",
            "\n",
            "       accept_gps_time  accept_gps_lng  accept_gps_lat        delivery_time  \\\n",
            "0  2024-10-22 10:26:00       108.71826        30.95587  2024-10-22 17:04:00   \n",
            "1  2024-09-30 10:00:00       108.71824        30.95583  2024-09-30 16:38:00   \n",
            "2  2024-07-10 08:33:00       108.71801        30.95637  2024-07-10 13:24:00   \n",
            "3  2024-09-09 09:04:00       108.71803        30.95629  2024-09-09 10:49:00   \n",
            "4  2024-10-19 08:29:00       108.71820        30.95598  2024-10-19 10:11:00   \n",
            "\n",
            "     delivery_gps_time  delivery_gps_lng  delivery_gps_lat    ds  \\\n",
            "0  2024-10-22 17:04:00         108.66361          30.96702  1022   \n",
            "1  2024-09-30 16:38:00         108.71429          30.90416   930   \n",
            "2  2024-07-10 13:24:00         108.71809          30.94260   710   \n",
            "3  2024-09-09 10:49:00         108.71970          30.94235   909   \n",
            "4  2024-10-19 10:11:00         108.72307          30.94201  1019   \n",
            "\n",
            "  delivery_duration  distance  city  \n",
            "0   0 days 06:38:00  0.055776     0  \n",
            "1   0 days 06:38:00  0.051821     0  \n",
            "2   0 days 04:51:00  0.013770     0  \n",
            "3   0 days 01:45:00  0.014040     0  \n",
            "4   0 days 01:42:00  0.014795     0  \n",
            "\n",
            "Modified Pickup Data:\n",
            "   region_id       city  accept_time  time_window_start  time_window_end  \\\n",
            "0          3  Chongqing          NaN                NaN              NaN   \n",
            "1          3  Chongqing          NaN                NaN              NaN   \n",
            "2          3  Chongqing          NaN                NaN              NaN   \n",
            "3          3  Chongqing          NaN                NaN              NaN   \n",
            "4          3  Chongqing          NaN                NaN              NaN   \n",
            "\n",
            "         lng       lat  aoi_id  aoi_type  pickup_time  pickup_gps_time  \\\n",
            "0  106.46869  29.47191     218        14          NaN              NaN   \n",
            "1  106.46875  29.47208     218        14          NaN              NaN   \n",
            "2  106.46863  29.47203     218        14          NaN              NaN   \n",
            "3  106.46861  29.48829     337         1          NaN              NaN   \n",
            "4  106.46772  29.48808     337         1          NaN              NaN   \n",
            "\n",
            "   pickup_gps_lng  pickup_gps_lat  accept_gps_time  accept_gps_lng  \\\n",
            "0       106.46821        29.46771              NaN       106.46929   \n",
            "1       106.46930        29.47238              NaN       106.47907   \n",
            "2       106.47037        29.47237              NaN       106.49162   \n",
            "3       106.46860        29.48788              NaN       106.47521   \n",
            "4       106.46918        29.48724              NaN       106.46635   \n",
            "\n",
            "   accept_gps_lat    ds  time_window_duration  task_duration  distance  \n",
            "0        29.47231  1009                   NaN            NaN  0.004725  \n",
            "1        29.43180   522                   NaN            NaN  0.041740  \n",
            "2        29.43503   503                   NaN            NaN  0.042963  \n",
            "3        29.48561   606                   NaN            NaN  0.006989  \n",
            "4        29.49159   521                   NaN            NaN  0.005190  \n"
          ]
        }
      ]
    },
    {
      "cell_type": "code",
      "source": [
        "\n",
        "# Define the VIF calculation function\n",
        "def calculate_vif(dataframe):\n",
        "    # Replace infinite values with NaN and drop rows with NaN\n",
        "    dataframe = dataframe.replace([np.inf, -np.inf], np.nan)\n",
        "    dataframe = dataframe.dropna()\n",
        "\n",
        "    X = add_constant(dataframe)\n",
        "    vif = pd.DataFrame()\n",
        "    vif['feature'] = X.columns\n",
        "    vif['VIF'] = [variance_inflation_factor(X.values, i) for i in range(X.shape[1])]\n",
        "    return vif\n"
      ],
      "metadata": {
        "id": "8-V5Rbms5SxN"
      },
      "execution_count": 4,
      "outputs": []
    },
    {
      "cell_type": "code",
      "source": [
        "# Handle Multicollinearity\n",
        "\n",
        "numerical_columns_delivery = delivery_data.select_dtypes(include=[np.number]).columns\n",
        "numerical_columns_pickup = pickup_data.select_dtypes(include=[np.number]).columns\n",
        "\n",
        "\n",
        "vif_delivery = calculate_vif(delivery_data[numerical_columns_delivery])\n",
        "print(\"VIF for Delivery Data:\")\n",
        "print(vif_delivery)\n",
        "\n",
        "# Define the VIF calculation function\n",
        "def calculate_vif(dataframe):\n",
        "    # Replace infinite values with NaN\n",
        "    dataframe = dataframe.replace([np.inf, -np.inf], np.nan)\n",
        "\n",
        "    # Drop columns with all NaN values instead of rows\n",
        "    dataframe = dataframe.dropna(axis=1, how='all')\n",
        "\n",
        "    # If the dataframe is empty after dropping columns, return an empty DataFrame\n",
        "    if dataframe.empty:\n",
        "        return pd.DataFrame(columns=['feature', 'VIF'])\n",
        "\n",
        "    X = add_constant(dataframe)\n",
        "    vif = pd.DataFrame()\n",
        "    vif['feature'] = X.columns\n",
        "    vif['VIF'] = [variance_inflation_factor(X.values, i) for i in range(X.shape[1])]\n",
        "    return vif\n",
        "\n",
        "vif_pickup = calculate_vif(pickup_data[numerical_columns_pickup])\n",
        "print(\"VIF for Pickup Data:\")\n",
        "print(vif_pickup)"
      ],
      "metadata": {
        "colab": {
          "base_uri": "https://localhost:8080/"
        },
        "id": "7e5PU2eCFuIQ",
        "outputId": "b4942a57-a705-4609-c0ad-f11f562554ae"
      },
      "execution_count": 5,
      "outputs": [
        {
          "output_type": "stream",
          "name": "stdout",
          "text": [
            "VIF for Delivery Data:\n",
            "             feature           VIF\n",
            "0              const   1361.996367\n",
            "1          region_id      1.580925\n",
            "2                lng  17499.902183\n",
            "3                lat   3603.483845\n",
            "4             aoi_id      1.000729\n",
            "5           aoi_type      1.019643\n",
            "6     accept_gps_lng   4976.165787\n",
            "7     accept_gps_lat   2359.159804\n",
            "8   delivery_gps_lng   6612.197891\n",
            "9   delivery_gps_lat   3000.599086\n",
            "10                ds      1.017373\n",
            "11          distance     78.459075\n",
            "12              city      2.747946\n",
            "VIF for Pickup Data:\n",
            "           feature           VIF\n",
            "0            const    464.486956\n",
            "1        region_id      1.600291\n",
            "2              lng  13989.626976\n",
            "3              lat  10370.463524\n",
            "4           aoi_id      1.000652\n",
            "5         aoi_type      1.012318\n",
            "6   pickup_gps_lng  16580.683304\n",
            "7   pickup_gps_lat  14078.007563\n",
            "8   accept_gps_lng  12340.834776\n",
            "9   accept_gps_lat  12960.479735\n",
            "10              ds      1.012086\n",
            "11        distance      1.026111\n"
          ]
        }
      ]
    },
    {
      "cell_type": "code",
      "source": [
        "\n",
        "\n",
        "\n",
        "\n",
        "\n",
        "delivery_data.dtypes"
      ],
      "metadata": {
        "colab": {
          "base_uri": "https://localhost:8080/",
          "height": 680
        },
        "id": "cmsfDDuSKCsD",
        "outputId": "230f86c5-ddfd-4980-f485-db6a82c1c732"
      },
      "execution_count": 15,
      "outputs": [
        {
          "output_type": "execute_result",
          "data": {
            "text/plain": [
              "order_id               int64\n",
              "region_id              int64\n",
              "courier_id             int64\n",
              "lng                  float64\n",
              "lat                  float64\n",
              "aoi_id                 int64\n",
              "aoi_type               int64\n",
              "accept_time           object\n",
              "accept_gps_time       object\n",
              "accept_gps_lng       float64\n",
              "accept_gps_lat       float64\n",
              "delivery_time         object\n",
              "delivery_gps_time     object\n",
              "delivery_gps_lng     float64\n",
              "delivery_gps_lat     float64\n",
              "ds                     int64\n",
              "delivery_duration    float64\n",
              "distance             float64\n",
              "city                   int64\n",
              "dtype: object"
            ],
            "text/html": [
              "<div>\n",
              "<style scoped>\n",
              "    .dataframe tbody tr th:only-of-type {\n",
              "        vertical-align: middle;\n",
              "    }\n",
              "\n",
              "    .dataframe tbody tr th {\n",
              "        vertical-align: top;\n",
              "    }\n",
              "\n",
              "    .dataframe thead th {\n",
              "        text-align: right;\n",
              "    }\n",
              "</style>\n",
              "<table border=\"1\" class=\"dataframe\">\n",
              "  <thead>\n",
              "    <tr style=\"text-align: right;\">\n",
              "      <th></th>\n",
              "      <th>0</th>\n",
              "    </tr>\n",
              "  </thead>\n",
              "  <tbody>\n",
              "    <tr>\n",
              "      <th>order_id</th>\n",
              "      <td>int64</td>\n",
              "    </tr>\n",
              "    <tr>\n",
              "      <th>region_id</th>\n",
              "      <td>int64</td>\n",
              "    </tr>\n",
              "    <tr>\n",
              "      <th>courier_id</th>\n",
              "      <td>int64</td>\n",
              "    </tr>\n",
              "    <tr>\n",
              "      <th>lng</th>\n",
              "      <td>float64</td>\n",
              "    </tr>\n",
              "    <tr>\n",
              "      <th>lat</th>\n",
              "      <td>float64</td>\n",
              "    </tr>\n",
              "    <tr>\n",
              "      <th>aoi_id</th>\n",
              "      <td>int64</td>\n",
              "    </tr>\n",
              "    <tr>\n",
              "      <th>aoi_type</th>\n",
              "      <td>int64</td>\n",
              "    </tr>\n",
              "    <tr>\n",
              "      <th>accept_time</th>\n",
              "      <td>object</td>\n",
              "    </tr>\n",
              "    <tr>\n",
              "      <th>accept_gps_time</th>\n",
              "      <td>object</td>\n",
              "    </tr>\n",
              "    <tr>\n",
              "      <th>accept_gps_lng</th>\n",
              "      <td>float64</td>\n",
              "    </tr>\n",
              "    <tr>\n",
              "      <th>accept_gps_lat</th>\n",
              "      <td>float64</td>\n",
              "    </tr>\n",
              "    <tr>\n",
              "      <th>delivery_time</th>\n",
              "      <td>object</td>\n",
              "    </tr>\n",
              "    <tr>\n",
              "      <th>delivery_gps_time</th>\n",
              "      <td>object</td>\n",
              "    </tr>\n",
              "    <tr>\n",
              "      <th>delivery_gps_lng</th>\n",
              "      <td>float64</td>\n",
              "    </tr>\n",
              "    <tr>\n",
              "      <th>delivery_gps_lat</th>\n",
              "      <td>float64</td>\n",
              "    </tr>\n",
              "    <tr>\n",
              "      <th>ds</th>\n",
              "      <td>int64</td>\n",
              "    </tr>\n",
              "    <tr>\n",
              "      <th>delivery_duration</th>\n",
              "      <td>float64</td>\n",
              "    </tr>\n",
              "    <tr>\n",
              "      <th>distance</th>\n",
              "      <td>float64</td>\n",
              "    </tr>\n",
              "    <tr>\n",
              "      <th>city</th>\n",
              "      <td>int64</td>\n",
              "    </tr>\n",
              "  </tbody>\n",
              "</table>\n",
              "</div><br><label><b>dtype:</b> object</label>"
            ]
          },
          "metadata": {},
          "execution_count": 15
        }
      ]
    },
    {
      "cell_type": "code",
      "source": [
        "# Feature Importance\n",
        "X_delivery = delivery_data.drop(columns=['delivery_duration'])\n",
        "\n",
        "# Convert to datetime objects first\n",
        "for col in X_delivery.select_dtypes(include=['object']).columns:\n",
        "    try:\n",
        "        X_delivery[col] = pd.to_datetime(X_delivery[col])\n",
        "    except ValueError:\n",
        "        pass\n",
        "\n",
        "datetime_cols = X_delivery.select_dtypes(include=['datetime64']).columns\n",
        "for col in datetime_cols:\n",
        "    X_delivery[col + '_unix'] = X_delivery[col].astype(np.int64) // 10**9\n",
        "\n",
        "# Drop the original datetime columns\n",
        "X_delivery = X_delivery.drop(columns=datetime_cols)\n",
        "\n",
        "# Convert any remaining object columns to numerical using one-hot encoding\n",
        "X_delivery = pd.get_dummies(X_delivery, columns=X_delivery.select_dtypes(include=['object']).columns)\n",
        "\n",
        "\n",
        "# Convert 'delivery_duration' to numerical (seconds)\n",
        "y_delivery = pd.to_timedelta(delivery_data['delivery_duration']).dt.total_seconds()\n",
        "\n",
        "model_delivery = RandomForestRegressor()\n",
        "model_delivery.fit(X_delivery, y_delivery)\n",
        "\n",
        "# Feature importance for delivery data\n",
        "importances_delivery = model_delivery.feature_importances_\n",
        "feature_names_delivery = X_delivery.columns\n",
        "\n",
        "# For Pickup Data\n",
        "X_pickup = pickup_data.drop(columns=['pickup_duration', 'accept_time', 'pickup_time'])  # Drop date/time columns if present\n",
        "y_pickup = pickup_data['pickup_duration']"
      ],
      "metadata": {
        "id": "qkvR2zIJFmsF"
      },
      "execution_count": null,
      "outputs": []
    },
    {
      "cell_type": "markdown",
      "source": [
        "### Create New Features"
      ],
      "metadata": {
        "id": "p-RPw9HR6Hkc"
      }
    },
    {
      "cell_type": "code",
      "source": [
        "import geopy.distance\n",
        "\n",
        "# Function to calculate distance for delivery data\n",
        "def calculate_distance_delivery(row):\n",
        "    coord1 = (row['accept_gps_lat'], row['accept_gps_lng'])\n",
        "    coord2 = (row['delivery_gps_lat'], row['delivery_gps_lng'])\n",
        "    return geopy.distance.distance(coord1, coord2).km\n",
        "\n",
        "# Function to calculate distance for pickup data\n",
        "def calculate_distance_pickup(row):\n",
        "    coord1 = (row['accept_gps_lat'], row['accept_gps_lng'])\n",
        "    coord2 = (row['pickup_gps_lat'], row['pickup_gps_lng'])  # Use pickup coordinates\n",
        "    return geopy.distance.distance(coord1, coord2).km\n",
        "\n",
        "# Create new distance feature for delivery data\n",
        "delivery_data['distance_to_delivery'] = delivery_data.apply(calculate_distance_delivery, axis=1)\n",
        "\n",
        "# Create new distance feature for pickup data\n",
        "pickup_data['distance_to_pickup'] = pickup_data.apply(calculate_distance_pickup, axis=1)\n",
        "\n",
        "# Check new features\n",
        "print(\"\\nModified Delivery Data with New Distance Feature:\")\n",
        "print(delivery_data[['distance_to_delivery']].head())\n",
        "\n",
        "print(\"\\nModified Pickup Data with New Distance Feature:\")\n",
        "print(pickup_data[['distance_to_pickup']].head())"
      ],
      "metadata": {
        "colab": {
          "base_uri": "https://localhost:8080/"
        },
        "id": "BSQGfgPV5S0A",
        "outputId": "726677dd-1e33-4bef-eef3-1f9940b1d558"
      },
      "execution_count": 8,
      "outputs": [
        {
          "output_type": "stream",
          "name": "stdout",
          "text": [
            "\n",
            "Modified Delivery Data with New Distance Feature:\n",
            "   distance_to_delivery\n",
            "0              5.365747\n",
            "1              5.740989\n",
            "2              1.526680\n",
            "3              1.553725\n",
            "4              1.617232\n",
            "\n",
            "Modified Pickup Data with New Distance Feature:\n",
            "   distance_to_pickup\n",
            "0            0.520530\n",
            "1            4.596794\n",
            "2            4.623857\n",
            "3            0.688644\n",
            "4            0.554804\n"
          ]
        }
      ]
    },
    {
      "cell_type": "markdown",
      "source": [
        "### Feature Transformation"
      ],
      "metadata": {
        "id": "MtC6smcX6a4U"
      }
    },
    {
      "cell_type": "code",
      "source": [
        "# Normalization and Standardization\n",
        "from sklearn.preprocessing import MinMaxScaler, StandardScaler\n",
        "\n",
        "# Min-Max Scaling\n",
        "scaler = MinMaxScaler()\n",
        "\n",
        "delivery_data[['lat', 'lng', 'distance_to_delivery']] = scaler.fit_transform(delivery_data[['lat', 'lng', 'distance_to_delivery']])\n",
        "pickup_data[['lat', 'lng', 'distance_to_pickup']] = scaler.fit_transform(pickup_data[['lat', 'lng', 'distance_to_pickup']])\n",
        "\n",
        "# Standard Scaling\n",
        "scaler = StandardScaler()\n",
        "\n",
        "delivery_data[['lat', 'lng', 'distance_to_delivery']] = scaler.fit_transform(delivery_data[['lat', 'lng', 'distance_to_delivery']])\n",
        "pickup_data[['lat', 'lng', 'distance_to_pickup']] = scaler.fit_transform(pickup_data[['lat', 'lng', 'distance_to_pickup']])\n",
        "\n",
        "print(\"\\nScaled Delivery Data:\")\n",
        "print(delivery_data[['lat', 'lng', 'distance_to_delivery']].head())\n",
        "\n",
        "print(\"\\nScaled Pickup Data:\")\n",
        "print(pickup_data[['lat', 'lng', 'distance_to_pickup']].head())"
      ],
      "metadata": {
        "colab": {
          "base_uri": "https://localhost:8080/"
        },
        "id": "xsf6iYtl5S3i",
        "outputId": "e6708222-2fd4-494c-8c89-e98d960e781d"
      },
      "execution_count": 9,
      "outputs": [
        {
          "output_type": "stream",
          "name": "stdout",
          "text": [
            "\n",
            "Scaled Delivery Data:\n",
            "        lat       lng  distance_to_delivery\n",
            "0  0.040747 -1.645537              0.022943\n",
            "1  0.041729 -1.645477              0.027129\n",
            "2  0.063061 -1.645139             -0.019886\n",
            "3  0.061799 -1.644818             -0.019585\n",
            "4  0.061982 -1.644595             -0.018876\n",
            "\n",
            "Scaled Pickup Data:\n",
            "        lat       lng  distance_to_pickup\n",
            "0 -0.825953 -2.130078           -0.110476\n",
            "1 -0.825910 -2.130068            0.499312\n",
            "2 -0.825923 -2.130089            0.503360\n",
            "3 -0.821809 -2.130092           -0.085327\n",
            "4 -0.821862 -2.130249           -0.105348\n"
          ]
        }
      ]
    },
    {
      "cell_type": "markdown",
      "source": [
        "### Feature Scaling"
      ],
      "metadata": {
        "id": "91SbqXSz6pSJ"
      }
    },
    {
      "cell_type": "code",
      "source": [
        "# Robust Scaling (Outlier Handling)\n",
        "from sklearn.preprocessing import RobustScaler\n",
        "\n",
        "robust_scaler = RobustScaler()\n",
        "\n",
        "delivery_data[['lat', 'lng', 'distance_to_delivery']] = robust_scaler.fit_transform(delivery_data[['lat', 'lng', 'distance_to_delivery']])\n",
        "pickup_data[['lat', 'lng', 'distance_to_pickup']] = robust_scaler.fit_transform(pickup_data[['lat', 'lng', 'distance_to_pickup']])\n",
        "\n",
        "\n",
        "print(\"\\nRobust Scaled Delivery Data:\")\n",
        "print(delivery_data[['lat', 'lng', 'distance_to_delivery']].head())\n",
        "\n",
        "print(\"\\nRobust Scaled Pickup Data:\")\n",
        "print(pickup_data[['lat', 'lng', 'distance_to_pickup']].head())"
      ],
      "metadata": {
        "colab": {
          "base_uri": "https://localhost:8080/"
        },
        "id": "9Jy0fbsI5S8R",
        "outputId": "99011d28-9c92-4210-91a2-46048329b45b"
      },
      "execution_count": 10,
      "outputs": [
        {
          "output_type": "stream",
          "name": "stdout",
          "text": [
            "\n",
            "Robust Scaled Delivery Data:\n",
            "        lat       lng  distance_to_delivery\n",
            "0  0.568303 -8.292497              1.761548\n",
            "1  0.570050 -8.292252              1.952203\n",
            "2  0.608006 -8.290871             -0.189027\n",
            "3  0.605760 -8.289563             -0.175286\n",
            "4  0.606086 -8.288649             -0.143019\n",
            "\n",
            "Robust Scaled Pickup Data:\n",
            "        lat       lng  distance_to_pickup\n",
            "0 -0.223078 -9.346295           -0.068090\n",
            "1 -0.223054 -9.346254            3.863163\n",
            "2 -0.223061 -9.346335            3.889263\n",
            "3 -0.220726 -9.346348            0.094043\n",
            "4 -0.220757 -9.346949           -0.035035\n"
          ]
        }
      ]
    },
    {
      "cell_type": "markdown",
      "source": [
        "### Feature Reduction"
      ],
      "metadata": {
        "id": "X_qg53SF66nU"
      }
    },
    {
      "cell_type": "code",
      "source": [
        "#Principal Component Analysis (PCA)\n",
        "\n",
        "from sklearn.decomposition import PCA\n",
        "\n",
        "pca = PCA(n_components=3)\n",
        "\n",
        "\n",
        "principal_components_delivery = pca.fit_transform(delivery_data[['lat', 'lng', 'distance_to_delivery']])\n",
        "\n",
        "# Add PCA components as new features\n",
        "pca_df_delivery = pd.DataFrame(principal_components_delivery, columns=[f'PC{i+1}' for i in range(principal_components_delivery.shape[1])])\n",
        "delivery_data = pd.concat([delivery_data, pca_df_delivery], axis=1)\n",
        "\n",
        "\n",
        "principal_components_pickup = pca.fit_transform(pickup_data[['lat', 'lng', 'distance_to_pickup']])\n",
        "\n",
        "# Add PCA components as new features\n",
        "pca_df_pickup = pd.DataFrame(principal_components_pickup, columns=[f'PC{i+1}' for i in range(principal_components_pickup.shape[1])])\n",
        "# Fix: Concatenate with pickup_data instead of c_pickup_data\n",
        "pickup_data = pd.concat([pickup_data, pca_df_pickup], axis=1)\n",
        "\n",
        "print(\"\\nDelivery Data with PCA Features:\")\n",
        "print(delivery_data[['PC1', 'PC2', 'PC3']].head())\n",
        "\n",
        "print(\"\\nPickup Data with PCA Features:\")\n",
        "print(pickup_data[['PC1', 'PC2', 'PC3']].head())"
      ],
      "metadata": {
        "colab": {
          "base_uri": "https://localhost:8080/"
        },
        "id": "zVBiK_eU5TCA",
        "outputId": "63725742-609e-47eb-c50c-341552cb2b62"
      },
      "execution_count": 12,
      "outputs": [
        {
          "output_type": "stream",
          "name": "stdout",
          "text": [
            "\n",
            "Delivery Data with PCA Features:\n",
            "        PC1       PC1       PC2       PC2       PC3       PC3\n",
            "0  1.044479  1.044479 -6.568270 -6.568270  1.432373  1.432373\n",
            "1  1.235135  1.235135 -6.567714 -6.567714  1.433917  1.433917\n",
            "2 -0.906071 -0.906071 -6.558251 -6.558251  1.472124  1.472124\n",
            "3 -0.892331 -0.892331 -6.557428 -6.557428  1.469651  1.469651\n",
            "4 -0.860063 -0.860063 -6.556473 -6.556473  1.469765  1.469765\n",
            "\n",
            "Pickup Data with PCA Features:\n",
            "        PC1       PC2       PC3\n",
            "0 -0.581444 -8.196125  0.157461\n",
            "1  3.349307 -8.133310  0.157804\n",
            "2  3.375406 -8.132975  0.157805\n",
            "3 -0.419334 -8.193410  0.159823\n",
            "4 -0.548386 -8.196072  0.159829\n"
          ]
        }
      ]
    },
    {
      "cell_type": "code",
      "source": [],
      "metadata": {
        "id": "F3w2BLKL5TFb"
      },
      "execution_count": null,
      "outputs": []
    }
  ]
}